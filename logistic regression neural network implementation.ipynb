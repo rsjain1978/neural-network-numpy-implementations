{
 "cells": [
  {
   "cell_type": "code",
   "execution_count": 1,
   "metadata": {},
   "outputs": [],
   "source": [
    "import numpy as np"
   ]
  },
  {
   "cell_type": "code",
   "execution_count": 2,
   "metadata": {},
   "outputs": [],
   "source": [
    "import random\n",
    "\n",
    "def initialize():\n",
    "    num_training_examples = 60\n",
    "    num_features = 2\n",
    "    \n",
    "    X = np.random.random((num_features,num_training_examples))\n",
    "    #print ('Shape of X is ',X.shape)\n",
    "    #print (X)\n",
    "    \n",
    "    #y = [0,0,1,1,0,1]\n",
    "    y = np.zeros((1,num_training_examples))\n",
    "    y[:,:30]=1\n",
    "    random.shuffle(y)\n",
    "    #print ('Shape of y is ', y.shape)\n",
    "    #print (y)\n",
    "    \n",
    "    w = np.random.random((num_features,1))\n",
    "    #print ('Shape of w is ', w.shape)\n",
    "    #print (w)\n",
    "    \n",
    "    b = 0.01\n",
    "    #print (b)\n",
    "    \n",
    "    return X,y,w,b,num_training_examples"
   ]
  },
  {
   "cell_type": "markdown",
   "metadata": {},
   "source": [
    "# Forward Propogation"
   ]
  },
  {
   "cell_type": "code",
   "execution_count": 3,
   "metadata": {},
   "outputs": [],
   "source": [
    "#print ('Shape of X is ', X.shape)\n",
    "#print ('Shape of w.T is ', w.T.shape)\n",
    "\n",
    "def fwd_propogate(X,w,b):\n",
    "    z = np.dot(w.T,X)+b\n",
    "    #print (z.shape)\n",
    "    yhat = 1/(1+np.exp(-z))\n",
    "    #print (yhat)\n",
    "    return yhat"
   ]
  },
  {
   "cell_type": "markdown",
   "metadata": {},
   "source": [
    "# Backward Propogation"
   ]
  },
  {
   "cell_type": "code",
   "execution_count": 4,
   "metadata": {},
   "outputs": [],
   "source": [
    "#print ('Shape of X is ', X.shape)\n",
    "#print ('Shape of dy.T is ', dy.T.shape)\n",
    "\n",
    "alpha = 0.001\n",
    "def back_propogate(X,y,yhat,w,b,num_training_examples):\n",
    "# Find derivative of Y w.r.t z\n",
    "    dy = yhat -y\n",
    "    #print (dy)\n",
    "\n",
    "    # Find derivative of z w.r.t w\n",
    "    dzw = np.dot(X,dy.T)/num_training_examples\n",
    "    #print (dzw)\n",
    "\n",
    "    # Find derivative of z w.r.t w\n",
    "    dzb = np.sum(dy)/num_training_examples\n",
    "    #print (dzb)\n",
    "    \n",
    "    # Update w & b\n",
    "    w = w - alpha*dzw\n",
    "    b = b - alpha*dzb\n",
    "    \n",
    "    return w,b"
   ]
  },
  {
   "cell_type": "code",
   "execution_count": 5,
   "metadata": {},
   "outputs": [],
   "source": [
    "def propogate(X,y,w1,b1,num_training_examples, epochs=10):\n",
    "    \n",
    "    for i in range(0,epochs):\n",
    "        yhat1 = fwd_propogate(X,w1,b1)\n",
    "        #print (yhat1)\n",
    "        w1,b1 = back_propogate(X,y,yhat1,w1,b1,num_training_examples)\n",
    "        #print (yhat1)\n",
    "    return yhat1"
   ]
  },
  {
   "cell_type": "code",
   "execution_count": 7,
   "metadata": {},
   "outputs": [
    {
     "name": "stdout",
     "output_type": "stream",
     "text": [
      "Predicted Values of Y are  [[0. 1. 1. 1. 0. 1. 0. 0. 1. 0. 1. 0. 1. 1. 0. 1. 1. 1. 0. 1. 0. 0. 1. 0.\n",
      "  1. 1. 0. 1. 0. 1. 0. 0. 1. 0. 1. 1. 0. 1. 0. 1. 1. 1. 0. 1. 0. 0. 1. 1.\n",
      "  1. 0. 0. 1. 0. 0. 0. 1. 0. 0. 1. 0.]]\n",
      "Actual values of Y are  [[1. 1. 1. 1. 1. 1. 1. 1. 1. 1. 1. 1. 1. 1. 1. 1. 1. 1. 1. 1. 1. 1. 1. 1.\n",
      "  1. 1. 1. 1. 1. 1. 0. 0. 0. 0. 0. 0. 0. 0. 0. 0. 0. 0. 0. 0. 0. 0. 0. 0.\n",
      "  0. 0. 0. 0. 0. 0. 0. 0. 0. 0. 0. 0.]]\n",
      "0.55\n"
     ]
    }
   ],
   "source": [
    "import numpy as np\n",
    "\n",
    "X,y,w,b,num_training_examples = initialize()\n",
    "predictedY = np.round(propogate(X,y,w,b,num_training_examples,epochs=200000))\n",
    "\n",
    "print ('Predicted Values of Y are ', predictedY)\n",
    "print ('Actual values of Y are ', y)\n",
    "\n",
    "from sklearn.metrics import accuracy_score\n",
    "c = accuracy_score(y[0], predictedY[0])\n",
    "print (c)"
   ]
  },
  {
   "cell_type": "code",
   "execution_count": null,
   "metadata": {},
   "outputs": [],
   "source": []
  },
  {
   "cell_type": "code",
   "execution_count": null,
   "metadata": {},
   "outputs": [],
   "source": []
  }
 ],
 "metadata": {
  "kernelspec": {
   "display_name": "Python 3",
   "language": "python",
   "name": "python3"
  },
  "language_info": {
   "codemirror_mode": {
    "name": "ipython",
    "version": 3
   },
   "file_extension": ".py",
   "mimetype": "text/x-python",
   "name": "python",
   "nbconvert_exporter": "python",
   "pygments_lexer": "ipython3",
   "version": "3.7.3"
  }
 },
 "nbformat": 4,
 "nbformat_minor": 2
}
