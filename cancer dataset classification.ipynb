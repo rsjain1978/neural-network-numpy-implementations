{
 "cells": [
  {
   "cell_type": "markdown",
   "metadata": {},
   "source": [
    "# Numpy based Logistic Regression on Breast Cancer Data set\n",
    "\n",
    "    - This is a custom implementation of Logistic Regression using Numpy \n",
    "    - This implements a numpy based forward and back propogation on breast cancer data set\n",
    "    - Cool implementation and gives a good understanding of how to implement back propogation using chain rule."
   ]
  },
  {
   "cell_type": "code",
   "execution_count": 1,
   "metadata": {},
   "outputs": [],
   "source": [
    "import numpy as np\n",
    "from sklearn.datasets import load_breast_cancer"
   ]
  },
  {
   "cell_type": "code",
   "execution_count": 2,
   "metadata": {},
   "outputs": [],
   "source": [
    "import random\n",
    "\n",
    "def initialize():\n",
    "    \n",
    "    data = load_breast_cancer()\n",
    "    X = data.data\n",
    "    print ('Shape of X is ',X.shape)\n",
    "    \n",
    "    y = data.target\n",
    "    y = y.reshape(y.shape[0],1)\n",
    "    print ('Shape of y is ', y.shape)\n",
    "    \n",
    "    w = np.random.random((X.shape[1],1))\n",
    "    print ('Shape of w is ', w.shape)\n",
    "    \n",
    "    b = 0.01\n",
    "        \n",
    "    return X,y,w,b"
   ]
  },
  {
   "cell_type": "code",
   "execution_count": 3,
   "metadata": {},
   "outputs": [
    {
     "name": "stdout",
     "output_type": "stream",
     "text": [
      "Shape of X is  (569, 30)\n",
      "Shape of y is  (569, 1)\n",
      "Shape of w is  (30, 1)\n",
      "Shape of trainX is  (426, 30)\n",
      "Shape of trainY is  (426, 1)\n"
     ]
    }
   ],
   "source": [
    "import numpy as np\n",
    "from sklearn.model_selection import train_test_split\n",
    "seed = random.seed(100)\n",
    "\n",
    "# Initialize the data\n",
    "X,y,w,b = initialize()\n",
    "\n",
    "# Split the data into train and test\n",
    "trainX, testX, trainY, testY = train_test_split(X,y, random_state=seed)\n",
    "print ('Shape of trainX is ', trainX.shape)\n",
    "print ('Shape of trainY is ', trainY.shape)"
   ]
  },
  {
   "cell_type": "markdown",
   "metadata": {},
   "source": [
    "# Forward Propogation"
   ]
  },
  {
   "cell_type": "code",
   "execution_count": 4,
   "metadata": {},
   "outputs": [],
   "source": [
    "def fwd_propogate(trainX, weight, bias):\n",
    "    #print ('Shape of trainX is ', trainX.shape)\n",
    "    #print ('Shape of weight.T is ', weight.T.shape)\n",
    "    \n",
    "    z = np.dot(trainX,weight) + bias\n",
    "    #print (z.shape)\n",
    "    \n",
    "    activation = 1/(1+np.exp(-z))\n",
    "    #print ('Activation shape is ',yhat.shape)\n",
    "    \n",
    "    return activation"
   ]
  },
  {
   "cell_type": "markdown",
   "metadata": {},
   "source": [
    "# Backward Propogation"
   ]
  },
  {
   "cell_type": "code",
   "execution_count": 5,
   "metadata": {},
   "outputs": [],
   "source": [
    "alpha = 0.001\n",
    "def back_propogate(trainX,trainY,activation,weight,bias):\n",
    "    \n",
    "    num_training_examples = trainX.shape[0]\n",
    "    \n",
    "    # Find derivative of trainY w.r.t z\n",
    "    loss = activation - trainY\n",
    "    #print ('Shape of loss is ',loss.shape)\n",
    "        \n",
    "    # Find derivative of z w.r.t w\n",
    "    dJW = np.dot(trainX.T, loss)/num_training_examples\n",
    "    #print ('Shape of dJW is ',dJW.shape)\n",
    "\n",
    "    # Find derivative of z w.r.t w\n",
    "    dJb = np.sum(loss)/num_training_examples\n",
    "    #print (dJb)\n",
    "    #print ('Shape of dJb is ', dJb.shape)\n",
    "    #print (dzb)\n",
    "    \n",
    "    #print ('Shape of W is ',w.shape)\n",
    "    #print ('Shape of dJW is ', dJW.shape)\n",
    "    #print ('Shape of dJb is ', dJb.shape)\n",
    "    \n",
    "    # Update w & b\n",
    "    weight = weight - alpha*dJW\n",
    "    bias = bias - alpha*dJb\n",
    "    \n",
    "    return weight,bias"
   ]
  },
  {
   "cell_type": "code",
   "execution_count": 6,
   "metadata": {},
   "outputs": [],
   "source": [
    "def propogate(trainX, trainY, weight, bias, epochs=10):\n",
    "    \n",
    "    for i in range(0,epochs):\n",
    "        activation = fwd_propogate(trainX,weight,bias)\n",
    "        weight,bias = back_propogate(trainX,trainY,activation,weight,bias)\n",
    "    return weight,bias"
   ]
  },
  {
   "cell_type": "markdown",
   "metadata": {},
   "source": [
    "# Train the model with different epochs and then plot to see which epoch gives best accuracy"
   ]
  },
  {
   "cell_type": "code",
   "execution_count": 7,
   "metadata": {},
   "outputs": [
    {
     "name": "stdout",
     "output_type": "stream",
     "text": [
      "Training completed for 100 epocs\n",
      "Training completed for 500 epocs\n",
      "Training completed for 1000 epocs\n",
      "Training completed for 2000 epocs\n",
      "Training completed for 6000 epocs\n",
      "Max accuracy is  0.8881118881118881\n"
     ]
    }
   ],
   "source": [
    "from sklearn.metrics import accuracy_score\n",
    "\n",
    "train_accuracy = []\n",
    "test_accuracy = []\n",
    "epochs = [100,500,1000,2000,6000]\n",
    "#epochs = [2]\n",
    "for i, epoc in enumerate(epochs):\n",
    "    \n",
    "    # Find the weights & bias\n",
    "    weights, bias = propogate(trainX, trainY, w, b, epochs=epoc)\n",
    "\n",
    "    predictedYOnTrainingData = np.round(fwd_propogate(trainX, weights, bias))\n",
    "    trainining_accuracy = accuracy_score(trainY, predictedYOnTrainingData)\n",
    "    \n",
    "    predictedYOnTestData = np.round(fwd_propogate(testX, weights, bias))\n",
    "    testing_accuracy = accuracy_score(testY, predictedYOnTestData)\n",
    "    \n",
    "    train_accuracy.append(trainining_accuracy)\n",
    "    test_accuracy.append(testing_accuracy)\n",
    "    \n",
    "    print ('Training completed for %d epocs'%(epoc))\n",
    "    \n",
    "\n",
    "print ('Max accuracy is ', max(test_accuracy))"
   ]
  },
  {
   "cell_type": "code",
   "execution_count": 8,
   "metadata": {},
   "outputs": [
    {
     "data": {
      "image/png": "[encoded data removed]",
      "text/plain": [
       "<Figure size 432x288 with 2 Axes>"
      ]
     },
     "metadata": {
      "needs_background": "light"
     },
     "output_type": "display_data"
    }
   ],
   "source": [
    "import matplotlib.pyplot as plt\n",
    "%matplotlib inline\n",
    "\n",
    "figure = plt.figure()\n",
    "\n",
    "ax1 = figure.add_subplot(211)\n",
    "plt.scatter(epochs, train_accuracy)\n",
    "plt.xlabel('Epochs')\n",
    "plt.ylabel('Accuracy')\n",
    "plt.legend(labels=['Training'])\n",
    "\n",
    "ax1 = figure.add_subplot(212)\n",
    "plt.scatter(epochs, test_accuracy)\n",
    "plt.xlabel('Epochs')\n",
    "plt.ylabel('Accuracy')\n",
    "plt.legend(labels=['Validation'])\n",
    "\n",
    "plt.show()"
   ]
  },
  {
   "cell_type": "code",
   "execution_count": null,
   "metadata": {},
   "outputs": [],
   "source": []
  },
  {
   "cell_type": "code",
   "execution_count": null,
   "metadata": {},
   "outputs": [],
   "source": []
  }
 ],
 "metadata": {
  "kernelspec": {
   "display_name": "Python 3",
   "language": "python",
   "name": "python3"
  },
  "language_info": {
   "codemirror_mode": {
    "name": "ipython",
    "version": 3
   },
   "file_extension": ".py",
   "mimetype": "text/x-python",
   "name": "python",
   "nbconvert_exporter": "python",
   "pygments_lexer": "ipython3",
   "version": "3.7.3"
  }
 },
 "nbformat": 4,
 "nbformat_minor": 2
}
