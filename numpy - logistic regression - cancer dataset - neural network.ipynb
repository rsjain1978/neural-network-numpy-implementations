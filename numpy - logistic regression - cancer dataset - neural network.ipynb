{
 "cells": [
  {
   "cell_type": "markdown",
   "metadata": {},
   "source": [
    "# Numpy based Logistic Regression on Breast Cancer Data set\n",
    "\n",
    "    - This is a custom implementation of Logistic Regression using Numpy \n",
    "    - This implements a numpy based forward and back propogation on breast cancer data set\n",
    "    - Cool implementation and gives a good understanding of how to implement back propogation using chain rule."
   ]
  },
  {
   "cell_type": "code",
   "execution_count": 1,
   "metadata": {},
   "outputs": [],
   "source": [
    "import numpy as np\n",
    "from sklearn.datasets import load_breast_cancer"
   ]
  },
  {
   "cell_type": "code",
   "execution_count": 2,
   "metadata": {},
   "outputs": [],
   "source": [
    "import random\n",
    "\n",
    "def initialize():\n",
    "    \n",
    "    data = load_breast_cancer()\n",
    "    X = data.data\n",
    "    print ('Shape of X is ',X.shape)\n",
    "    \n",
    "    y = data.target\n",
    "    print ('Shape of y is ', y.shape)\n",
    "    \n",
    "    w = np.random.random((X.shape[1],1))\n",
    "    print ('Shape of w is ', w.shape)\n",
    "    \n",
    "    b = 0.01\n",
    "    \n",
    "    num_training_examples = X.shape[0]\n",
    "    \n",
    "    return X,y,w,b,num_training_examples"
   ]
  },
  {
   "cell_type": "code",
   "execution_count": 3,
   "metadata": {},
   "outputs": [
    {
     "name": "stdout",
     "output_type": "stream",
     "text": [
      "Shape of X is  (569, 30)\n",
      "Shape of y is  (569,)\n",
      "Shape of w is  (30, 1)\n"
     ]
    }
   ],
   "source": [
    "import numpy as np\n",
    "from sklearn.model_selection import train_test_split\n",
    "seed = random.seed(100)\n",
    "\n",
    "# Initialize the data\n",
    "X,y,w,b,num_training_examples = initialize()\n",
    "\n",
    "# Split the data into train and test\n",
    "trainX, testX, trainY, testY = train_test_split(X,y, random_state=seed)"
   ]
  },
  {
   "cell_type": "markdown",
   "metadata": {},
   "source": [
    "# Forward Propogation"
   ]
  },
  {
   "cell_type": "code",
   "execution_count": 4,
   "metadata": {},
   "outputs": [],
   "source": [
    "def fwd_propogate(trainX, weight, intercept):\n",
    "    #print ('Shape of trainX is ', trainX.shape)\n",
    "    #print ('Shape of weight.T is ', weight.T.shape)\n",
    "    \n",
    "    z = np.dot(weight.T,trainX.T)+intercept\n",
    "    #print (z.shape)\n",
    "    yhat = 1/(1+np.exp(-z))\n",
    "    #print (weight)\n",
    "    #print (yhat)\n",
    "    #print (yhat.shape)\n",
    "    return yhat"
   ]
  },
  {
   "cell_type": "markdown",
   "metadata": {},
   "source": [
    "# Backward Propogation"
   ]
  },
  {
   "cell_type": "code",
   "execution_count": 5,
   "metadata": {},
   "outputs": [],
   "source": [
    "#print ('Shape of X is ', X.shape)\n",
    "#print ('Shape of dy.T is ', dy.T.shape)\n",
    "\n",
    "alpha = 0.001\n",
    "def back_propogate(trainX,trainY,yhat,weight,intercept):\n",
    "    \n",
    "    num_training_examples = trainX.shape[0]\n",
    "    #print (num_training_examples)\n",
    "    \n",
    "    # Find derivative of trainY w.r.t z\n",
    "    dy = yhat - trainY\n",
    "    #print ('Shape of trainX is ', trainX.shape)\n",
    "    #print ('Shape of dy.T is ', dy.T.shape)\n",
    "\n",
    "    # Find derivative of z w.r.t w\n",
    "    dzw = np.dot(dy, trainX)/num_training_examples\n",
    "    dzw = dzw.T\n",
    "    #print (dzw.shape)\n",
    "\n",
    "    # Find derivative of z w.r.t w\n",
    "    dzb = np.sum(dy)/num_training_examples\n",
    "    #dzb = dzb.T\n",
    "    #print (dzb)\n",
    "    \n",
    "    #print ('Shape of w is ',w.shape)\n",
    "    #print ('Shape of dzw is ', dzw.shape)\n",
    "    \n",
    "    # Update w & b\n",
    "    weight = weight - alpha*dzw\n",
    "    intercept = intercept - alpha*dzb\n",
    "    \n",
    "    return weight,intercept"
   ]
  },
  {
   "cell_type": "code",
   "execution_count": 6,
   "metadata": {},
   "outputs": [],
   "source": [
    "def propogate(trainX, trainY, weight, intercept, epochs=10):\n",
    "    \n",
    "    for i in range(0,epochs):\n",
    "        yhat = fwd_propogate(trainX,weight,intercept)\n",
    "        #print (yhat)\n",
    "        weight,intercept = back_propogate(trainX,trainY,yhat,weight,intercept)\n",
    "        #print (yhat)\n",
    "    return weight,intercept"
   ]
  },
  {
   "cell_type": "markdown",
   "metadata": {},
   "source": [
    "# Train the model with different epochs and then plot to see which epoch gives best accuracy"
   ]
  },
  {
   "cell_type": "code",
   "execution_count": 12,
   "metadata": {},
   "outputs": [
    {
     "name": "stdout",
     "output_type": "stream",
     "text": [
      "Max accuracy is  0.9300699300699301\n"
     ]
    }
   ],
   "source": [
    "from sklearn.metrics import accuracy_score\n",
    "\n",
    "train_accuracy = []\n",
    "test_accuracy = []\n",
    "epochs = [10,50,100,200,400,800,1600]\n",
    "\n",
    "for i, epoc in enumerate(epochs):\n",
    "    \n",
    "    # Find the weights & intercept\n",
    "    weights, intercept = propogate(trainX, trainY, w, b, epochs=epoc)\n",
    "\n",
    "    predictedYOnTrainingData = np.round(fwd_propogate(trainX, weights, intercept))\n",
    "    trainining_accuracy = accuracy_score(trainY, predictedYOnTrainingData[0])\n",
    "    \n",
    "    predictedYOnTestData = np.round(fwd_propogate(testX, weights, intercept))\n",
    "    testing_accuracy = accuracy_score(testY, predictedYOnTestData[0])\n",
    "    \n",
    "    train_accuracy.append(trainining_accuracy)\n",
    "    test_accuracy.append(testing_accuracy)\n",
    "    \n",
    "\n",
    "print ('Max accuracy is ', max(test_accuracy))"
   ]
  },
  {
   "cell_type": "code",
   "execution_count": 13,
   "metadata": {},
   "outputs": [
    {
     "data": {
      "image/png": "[encoded data removed]",
      "text/plain": [
       "<Figure size 432x288 with 2 Axes>"
      ]
     },
     "metadata": {
      "needs_background": "light"
     },
     "output_type": "display_data"
    }
   ],
   "source": [
    "import matplotlib.pyplot as plt\n",
    "%matplotlib inline\n",
    "\n",
    "figure = plt.figure()\n",
    "\n",
    "ax1 = figure.add_subplot(211)\n",
    "plt.scatter(epochs, train_accuracy)\n",
    "plt.xlabel('Epochs')\n",
    "plt.ylabel('Accuracy')\n",
    "plt.legend(labels=['Training'])\n",
    "\n",
    "ax1 = figure.add_subplot(212)\n",
    "plt.scatter(epochs, test_accuracy)\n",
    "plt.xlabel('Epochs')\n",
    "plt.ylabel('Accuracy')\n",
    "plt.legend(labels=['Validation'])\n",
    "\n",
    "plt.show()"
   ]
  },
  {
   "cell_type": "code",
   "execution_count": null,
   "metadata": {},
   "outputs": [],
   "source": []
  }
 ],
 "metadata": {
  "kernelspec": {
   "display_name": "Python 3",
   "language": "python",
   "name": "python3"
  },
  "language_info": {
   "codemirror_mode": {
    "name": "ipython",
    "version": 3
   },
   "file_extension": ".py",
   "mimetype": "text/x-python",
   "name": "python",
   "nbconvert_exporter": "python",
   "pygments_lexer": "ipython3",
   "version": "3.7.3"
  }
 },
 "nbformat": 4,
 "nbformat_minor": 2
}
